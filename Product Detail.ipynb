{
 "cells": [
  {
   "cell_type": "code",
   "execution_count": 1,
   "metadata": {},
   "outputs": [],
   "source": [
    "import pandas as pd\n",
    "#firefox or chrome\n",
    "from selenium import webdriver"
   ]
  },
  {
   "cell_type": "code",
   "execution_count": 2,
   "metadata": {},
   "outputs": [],
   "source": [
    "driver = webdriver.Chrome()"
   ]
  },
  {
   "cell_type": "code",
   "execution_count": 3,
   "metadata": {},
   "outputs": [],
   "source": [
    "def product_detail(url):\n",
    "    driver = webdriver.Chrome()\n",
    "    driver.get(url)\n",
    "    entry=driver.find_elements_by_class_name(\"product\")\n",
    "    prices=[]\n",
    "    title=[]\n",
    "    stock=[]\n",
    "    maftr=[]\n",
    "\n",
    "    for i in entry:\n",
    "        i=i.text.split('\\n')\n",
    "        prices.append(i[2])\n",
    "        title.append(i[0])\n",
    "        maftr.append(i[1].split('|')[-1])\n",
    "        if i[-1]==\"Out of Stock\":\n",
    "            stock.append('0')\n",
    "        else:\n",
    "            stock.append('1')\n",
    "    \n",
    "    dicr={'Price':prices,'Title':title,'Stock':stock,'Menufacture':maftr}\n",
    "    return dicr"
   ]
  },
  {
   "cell_type": "code",
   "execution_count": 4,
   "metadata": {},
   "outputs": [],
   "source": [
    "def Get_detail(url):\n",
    "    df=pd.DataFrame(product_detail(url))\n",
    "    print('Processing........')\n",
    "    df.to_csv('Midsouthshooterssupply')\n",
    "    print('Done')"
   ]
  },
  {
   "cell_type": "code",
   "execution_count": 5,
   "metadata": {},
   "outputs": [
    {
     "name": "stdout",
     "output_type": "stream",
     "text": [
      "Processing........\n",
      "Done\n"
     ]
    }
   ],
   "source": [
    "url=\"https://www.midsouthshooterssupply.com/dept/reloading/primers?currentpage=1\"\n",
    "Get_detail(url)"
   ]
  },
  {
   "cell_type": "code",
   "execution_count": null,
   "metadata": {},
   "outputs": [],
   "source": []
  },
  {
   "cell_type": "code",
   "execution_count": null,
   "metadata": {},
   "outputs": [],
   "source": []
  }
 ],
 "metadata": {
  "kernelspec": {
   "display_name": "Python 3",
   "language": "python",
   "name": "python3"
  },
  "language_info": {
   "codemirror_mode": {
    "name": "ipython",
    "version": 3
   },
   "file_extension": ".py",
   "mimetype": "text/x-python",
   "name": "python",
   "nbconvert_exporter": "python",
   "pygments_lexer": "ipython3",
   "version": "3.7.6"
  }
 },
 "nbformat": 4,
 "nbformat_minor": 4
}
